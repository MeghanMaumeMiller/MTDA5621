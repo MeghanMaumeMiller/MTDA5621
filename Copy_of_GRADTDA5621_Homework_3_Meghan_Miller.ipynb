{
  "nbformat": 4,
  "nbformat_minor": 0,
  "metadata": {
    "colab": {
      "name": "Copy of GRADTDA5621-Homework 3-Meghan-Miller.ipynb",
      "provenance": [],
      "collapsed_sections": [
        "9e_Aw0yFNEyv",
        "-zRkgOgZk_0L",
        "J52IuX1vzOQV",
        "aB12hjTRqIEm"
      ],
      "toc_visible": true,
      "include_colab_link": true
    },
    "kernelspec": {
      "name": "python3",
      "display_name": "Python 3"
    }
  },
  "cells": [
    {
      "cell_type": "markdown",
      "metadata": {
        "id": "view-in-github",
        "colab_type": "text"
      },
      "source": [
        "<a href=\"https://colab.research.google.com/github/MeghanMaumeMiller/MTDA5621/blob/master/Copy_of_GRADTDA5621_Homework_3_Meghan_Miller.ipynb\" target=\"_parent\"><img src=\"https://colab.research.google.com/assets/colab-badge.svg\" alt=\"Open In Colab\"/></a>"
      ]
    },
    {
      "cell_type": "markdown",
      "metadata": {
        "id": "9e_Aw0yFNEyv"
      },
      "source": [
        "# Homework 3\n",
        "\n",
        "## Problem 1.1: Average of Odd numbers\n",
        "\n",
        "Return the ***Average*** of all the odd numbers in the list of integers. \n",
        "\n",
        "> **Important:** make use of *list comprehension* and *lamdba* functions exclusively for this problem. \n",
        "\n",
        "> **Note:** To determine if a number is odd, divide by `2` or check the remainder (with `%` operator).  Refer to Practice Problem 1 under *list comprehension*.\n",
        "\n",
        "**Input:**\n",
        "```\n",
        "A = [1, 4, 2, 10, 3, 7]\n",
        "```\n",
        "\n",
        "**Expected Output:**\n",
        "```\n",
        "3.667\n",
        "```\n",
        "\n",
        "Explanation: `3.667 = Avg([1, 3, 7])`\n",
        "\n",
        "\n"
      ]
    },
    {
      "cell_type": "markdown",
      "metadata": {
        "id": "-zRkgOgZk_0L"
      },
      "source": [
        "### Solution:\n",
        "\n",
        "**Problem Breakdown**\n",
        "\n",
        "1. First try implementing it using traditional for loops without any lamdba function."
      ]
    },
    {
      "cell_type": "code",
      "metadata": {
        "id": "iGEI_9AgkXBM"
      },
      "source": [
        "def odd_avg(A):\n",
        "  all_odds = [] # start with an empty list variable\n",
        "  for a in A:\n",
        "    if # condition to check if `a` is odd here\n",
        "      # code here to append `a` to `all_odds` list if the condition satisfies.\n",
        "\n",
        "  avg = sum(all_odds) / len(all_odds)\n",
        "  return avg\n",
        "\n",
        "A = [1, 4, 2, 10, 3, 7]\n",
        "odd_avg(A)"
      ],
      "execution_count": null,
      "outputs": []
    },
    {
      "cell_type": "markdown",
      "metadata": {
        "id": "T6ZLoLsekYtg"
      },
      "source": [
        "2. Now may use of list comprehensions only using the function `is_odd`"
      ]
    },
    {
      "cell_type": "code",
      "metadata": {
        "id": "-HPR7gAfk4TM"
      },
      "source": [
        "# this is still a normal function. NOT a lambda function yet.\n",
        "def is_odd(a):\n",
        "  return # code here to return True if a is odd, else return False\n",
        "\n",
        "def odd_avg(A):\n",
        "  all_odds = []                         # complete this list comprehension to collect all odd numbers from A\n",
        "  avg = sum(all_odds) / len(all_odds)\n",
        "  return avg\n",
        "\n",
        "A = [1, 4, 2, 10, 3, 7]\n",
        "odd_avg(A)"
      ],
      "execution_count": null,
      "outputs": []
    },
    {
      "cell_type": "markdown",
      "metadata": {
        "id": "-XYf1moAk5a0"
      },
      "source": [
        "3. Now replace the function `is_odd` with a lambda function "
      ]
    },
    {
      "cell_type": "code",
      "metadata": {
        "id": "3Nr27_jhNCYW"
      },
      "source": [
        "def odd_avg(A):\n",
        "  is_odd = lambda a:                   # complete the code for lambda function\n",
        "  all_odds = []                        # use lambda function is_odd() here\n",
        "  avg = sum(all_odds) / len(all_odds)\n",
        "  return avg\n",
        "\n",
        "A = [1, 4, 2, 10, 3, 7]\n",
        "odd_avg(A)"
      ],
      "execution_count": null,
      "outputs": []
    },
    {
      "cell_type": "markdown",
      "metadata": {
        "id": "J52IuX1vzOQV"
      },
      "source": [
        "## Problem 1.2: Harmonic Series of odd numbers\n",
        "\n",
        "Define a lambda function to compute the following series upto a certain `n`.\n",
        "\n",
        "For example, `n = 6` will generate the following series.\n",
        "$$\\sum_{x=0}^{n=6}{\\frac{1}{2x + 1}} = 1 + \\frac{1}{3} + \\frac{1}{5} + \\frac{1}{7} + \\frac{1}{9} + \\frac{1}{11} + \\frac{1}{13}$$\n",
        "Note, the summation includes only odd numbers.\n",
        "\n",
        "> **Important:** make use of *list comprehension* and *lamdba* functions exclusively for this problem. \n",
        "\n",
        "**Input:**\n",
        "```\n",
        "n = 6\n",
        "```\n",
        "\n",
        "**Expected Output:**\n",
        "```\n",
        "1.95513375513\n",
        "```\n",
        "\n",
        "**Explanation:**\n",
        "\n",
        "```\n",
        "[0,  1,   2,   3,   4,   5    6]\n",
        " |   |    |    |    |    |.   |\n",
        "[1, 1/3, 1/5, 1/7, 1/9, 1/11, 1/13]\n",
        "```"
      ]
    },
    {
      "cell_type": "markdown",
      "metadata": {
        "id": "aB12hjTRqIEm"
      },
      "source": [
        "### Solution\n",
        "\n",
        "**Problem Breakdown**\n",
        "\n",
        "1. First try implementing it using traditional for loops without any lamdba function."
      ]
    },
    {
      "cell_type": "code",
      "metadata": {
        "id": "SJTG3otSqRfl"
      },
      "source": [
        "def harmonic_series(n):\n",
        "  series = []\n",
        "  for x in range(n):\n",
        "    # code here         # append 1/(2x + 1) to the series\n",
        "  return sum(series)\n",
        "n = 6\n",
        "harmonic_series(n)"
      ],
      "execution_count": null,
      "outputs": []
    },
    {
      "cell_type": "markdown",
      "metadata": {
        "id": "ZbhY85NGqUNP"
      },
      "source": [
        "2. Now may use of list comprehensions only using the function `h`"
      ]
    },
    {
      "cell_type": "code",
      "metadata": {
        "id": "8BL8VMJNqYVj"
      },
      "source": [
        "def h(x):\n",
        "  # define the harmonic equation 1/(2x + 1) here\n",
        "\n",
        "def harmonic_series(n):\n",
        "  series = [] # use list comprehension to generate all the numbers in the series using h(x)\n",
        "  return sum(series)\n",
        "\n",
        "n = 6\n",
        "harmonic_series(n)"
      ],
      "execution_count": null,
      "outputs": []
    },
    {
      "cell_type": "markdown",
      "metadata": {
        "id": "r-uhuok9qZox"
      },
      "source": [
        "3. Now replace the function `h` with a lambda function "
      ]
    },
    {
      "cell_type": "code",
      "metadata": {
        "id": "7BnPqnJZhzCK"
      },
      "source": [
        "def harmonic_series(n):\n",
        "  h = lambda x:         # define the equation inside the summation\n",
        "  series = []           # use the lambda function h() to generate all the numbers in the series\n",
        "  return sum(series)\n",
        "\n",
        "n = 6\n",
        "harmonic_series(n)"
      ],
      "execution_count": null,
      "outputs": []
    },
    {
      "cell_type": "markdown",
      "metadata": {
        "id": "OoUv8GBUzggZ"
      },
      "source": [
        "# Problem 1.3: Geometric Series\n",
        "\n",
        "Return the sum of the following geometric series upto `n`.\n",
        "\n",
        "$$\\sum_{k=0}^{n-1}{ar^k} = a + ar + ar^2 + ar^3 + ar^4 ... + ar^{n-1}$$\n",
        "\n",
        "So, for a = 2, r = 3 and n = 5\n",
        "\n",
        "$$\\sum_{k=0}^{n-1}{ar^k} = 2 + 6 + 18 + 54 + 162$$\n",
        "\n",
        "> **Important:** make use of *list comprehension* and *lamdba* functions exclusively for this problem. \n",
        "\n",
        "**Input:**\n",
        "```\n",
        "a=2\n",
        "r=3\n",
        "n=5\n",
        "```\n",
        "**Expected Output:**\n",
        "```\n",
        "242\n",
        "```"
      ]
    },
    {
      "cell_type": "markdown",
      "metadata": {
        "id": "ljw2UOHosKWv"
      },
      "source": [
        "### Solution\n",
        "\n",
        "**Problem Breakdown**\n",
        "\n",
        "1. First try implementing it using traditional for loops without any lamdba function."
      ]
    },
    {
      "cell_type": "code",
      "metadata": {
        "id": "H60ZFuAgsRg9"
      },
      "source": [
        "def geometric_series(a, r, k):\n",
        "  series = []\n",
        "  for x in range(n):\n",
        "    # code here         # append the equation ar^k to the series\n",
        "  return sum(series)\n",
        "\n",
        "a = 2\n",
        "r = 3\n",
        "n = 5\n",
        "geometric_series(a, r, n)"
      ],
      "execution_count": null,
      "outputs": []
    },
    {
      "cell_type": "markdown",
      "metadata": {
        "id": "yK_GeHEusRhC"
      },
      "source": [
        "2. Now may use of list comprehensions only using the function `g`"
      ]
    },
    {
      "cell_type": "code",
      "metadata": {
        "id": "Ptnd5JX0sRhD"
      },
      "source": [
        "def g(x):\n",
        "  # define the equation ar^k here\n",
        "\n",
        "def geometric_series(a, r, n):      \n",
        "  series = []             # use the lambda function g() to generate all the numbers in the series\n",
        "  return sum(series)\n",
        "\n",
        "a = 2\n",
        "r = 3\n",
        "n = 5\n",
        "geometric_series(a, r, n)"
      ],
      "execution_count": null,
      "outputs": []
    },
    {
      "cell_type": "markdown",
      "metadata": {
        "id": "oEJOBJjRsRhF"
      },
      "source": [
        "3. Now replace the function `g` with a lambda function "
      ]
    },
    {
      "cell_type": "code",
      "metadata": {
        "id": "Xlv1JuhHlp5I"
      },
      "source": [
        "def geometric_series(a, r, n):\n",
        "  g = lambda a,r,k:       # define the formula inside the summation\n",
        "  series = []             # use the lambda function g() to generate all the numbers in the series\n",
        "  return sum(series)\n",
        "\n",
        "a = 2\n",
        "r = 3\n",
        "n = 5\n",
        "geometric_series(a, r, n)"
      ],
      "execution_count": null,
      "outputs": []
    },
    {
      "cell_type": "markdown",
      "metadata": {
        "id": "nHW6tPoNUclf"
      },
      "source": [
        "## Problem 2: Abbreviate Long Words\n",
        "\n",
        "Sometimes some words like `localization` or `internationalization` are so long that writing them many times in one text is quite tiresome.\n",
        "\n",
        "Let's consider a word too long, if its length is strictly more than `n` characters. \n",
        "\n",
        "All too long words should be replaced with a special abbreviation. This abbreviation is made like this: we write down the first and the last letter of a word and between them we write the number of letters between the first and the last letters. That number is in decimal system and doesn't contain any leading zeroes.\n",
        "\n",
        "> Thus, for `n=10`, `localization` will be spelt as `l10n`, and `internationalization` will be spelt as `i18n`. But `local` remains `local`.\n",
        "> Ie, all words longer than `n` should be replaced by their abbreviations but the words that are not too long must stay the same.\n",
        "\n",
        "You are asked to:\n",
        "\n",
        "1. Read the words from a file. \n",
        "2. Build a generator to process each word and replace them with their abbreviations if too long. \n",
        "3. Save them line by line in another file. \n",
        "\n",
        "### Why Generators ?\n",
        "\n",
        "Generators work on lazy (on-demand) generation of values. This results in two advantages. First, lower memory consumption if only a portion of the generated value is needed and used only once.\n",
        "\n",
        "The on-demand nature of generators also means we may not have to generate values that won't be used, and thus would have been wasted cycles if they were generated. This means your program can use only the values needed without having to wait until all of them have been generated.\n",
        "\n",
        "When to use Generators\n",
        "Generators are an advanced tool present in Python. There are several programming cases where generators can increase efficiency. Some of these cases are:\n",
        "\n",
        "1. **Processing large amounts of data:** generators provide calculation on-demand, also called lazy evaluation. This technique is used in stream processing.\n",
        "2. **Piping:** stacked generators can be used as pipes, in a manner similar to Unix pipes.\n",
        "3. **Concurrency:** generators can be used to generate (simulate) concurrency.\n",
        "\n",
        "\n",
        "**Sample text as Input:**\n",
        "```\n",
        "absolutely\n",
        "governmental\n",
        "conditions\n",
        "implementation\n",
        "activities\n",
        "identification\n",
        "fewer\n",
        "heritage\n",
        "graduated\n",
        "localization\n",
        "internationalization\n",
        "accommodations\n",
        "fundamentals\n",
        "```\n",
        "\n",
        "```\n",
        "n = 10\n",
        "```\n",
        "\n",
        "**Expected Output:**\n",
        "```\n",
        "a8y\n",
        "g10l\n",
        "c8s\n",
        "i12n\n",
        "a8s\n",
        "i12n\n",
        "fewer\n",
        "heritage\n",
        "graduated\n",
        "l10n\n",
        "i18n\n",
        "a12s\n",
        "f10s\n",
        "```"
      ]
    },
    {
      "cell_type": "markdown",
      "metadata": {
        "id": "gpJ-xo_qwHJU"
      },
      "source": [
        "### Solution\n",
        "\n",
        "**Problem Breakdown**\n",
        "\n",
        "1. a. Write the abbreviate function `abbrev_function()` without making use of any generator concepts. Write this function to simply transform the words into abbreviated words. \n",
        "> _**Bonus:** can you write this as a list comprehension?_"
      ]
    },
    {
      "cell_type": "code",
      "metadata": {
        "id": "kmUY0d3auZ_7"
      },
      "source": [
        "def abbrev_function(words, n):\n",
        "  abbrev_words = []        # start with an empty list of abbreviated words\n",
        "  for word in words:\n",
        "    if len(word) >= n:\n",
        "      first_ch =  ?             # get the first character from the variable `word`\n",
        "      last_ch =   ?             # get the last character from the variable `word`\n",
        "      length_in_bet =  ?        # get the total length of all characters in between the first and last in `word`.\n",
        "      abbrev_words.append(?)    # append output string in the format first_ch + length in between + last_ch. Be sure to add `\\n` at the end.\n",
        "    else:\n",
        "      abbrev_words.append(?)    # if the word's length is smaller than n, dont abbreviate. Be sure to add `\\n` at the end.\n",
        "\n",
        "    return abbrev_words         # return the list of abbreviated words\n",
        "    "
      ],
      "execution_count": null,
      "outputs": []
    },
    {
      "cell_type": "markdown",
      "metadata": {
        "id": "27YviG6gw9lD"
      },
      "source": [
        "1. b. Use the `abbrev_function()` to generate a the list of abbreviated words `abbrev_words` and write it to the output file using `writelines()`. "
      ]
    },
    {
      "cell_type": "code",
      "metadata": {
        "id": "zCpvX75TvBkL"
      },
      "source": [
        "# this file doesnt exist yet. \n",
        "with open(\"sample_data/data.txt\", \"r\") as f, \\\n",
        "  open(\"sample_data/hw3_p2_out.txt\", \"w\") as out:\n",
        "  words = f.            # use readlines method to read each line and store it as a list  \n",
        "  words =               # remove newlines using .rstrip() function for string operations (refer to problem 1 under \"Files\" in Comprehensions_Functions_Files.ipynb).\n",
        "\n",
        "  abbrev_words = abbrev_function(words, n=10)\n",
        "  out.                   # use `writelines()` method to write the abbreviated words into the output file `out`."
      ],
      "execution_count": null,
      "outputs": []
    },
    {
      "cell_type": "markdown",
      "metadata": {
        "id": "P27XapAlxd04"
      },
      "source": [
        "2. a. Now convert the `abbrev_function()` above into a generator `abbrev_generator()` that only yields ONE word everytime."
      ]
    },
    {
      "cell_type": "code",
      "metadata": {
        "id": "RTlk67h-uftc"
      },
      "source": [
        "def abbrev_generator(words, n):\n",
        "  for word in words:\n",
        "    if len(word) >= n:\n",
        "      first_ch =  ?       # get the first character from the variable `word`\n",
        "      last_ch =   ?       # get the last character from the variable `word`\n",
        "      length_in_bet =  ?  # get the total length of all characters in between the first and last in `word`.\n",
        "      yield   ?           # create the output string in the format first_ch + length in between + last_ch. Be sure to add `\\n` at the end.\n",
        "    else:\n",
        "      yield   ?           # if the word's length is smaller than n, dont abbreviate. Be sure to add `\\n` at the end.   "
      ],
      "execution_count": null,
      "outputs": []
    },
    {
      "cell_type": "markdown",
      "metadata": {
        "id": "6oM8vFB_xvF9"
      },
      "source": [
        "2. b. Using the new generator function, use it in a for loop to write to the output file one word at a time."
      ]
    },
    {
      "cell_type": "code",
      "metadata": {
        "id": "ECg5lI1bUaZF"
      },
      "source": [
        "# this file doesnt exist yet. \n",
        "with open(\"sample_data/data.txt\", \"r\") as f, \\\n",
        "  open(\"sample_data/hw3_p2_out.txt\", \"w\") as out:\n",
        "  words = f.?            # use readlines method to read each line and store it as a list  \n",
        "  words = ?              # remove newlines using .rstrip() function for string operations (refer to problem 1 under \"Files\" in Comprehensions_Functions_Files.ipynb).\n",
        "  for abb in abbrev_generator(words, n=10):\n",
        "    out.?                   # use `write()` method to write the abbreviated words into the output file `out`."
      ],
      "execution_count": null,
      "outputs": []
    },
    {
      "cell_type": "code",
      "metadata": {
        "id": "DjMmk6ruyB7h"
      },
      "source": [
        ""
      ],
      "execution_count": null,
      "outputs": []
    }
  ]
}