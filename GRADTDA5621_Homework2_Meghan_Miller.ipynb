{
  "nbformat": 4,
  "nbformat_minor": 0,
  "metadata": {
    "colab": {
      "name": "GRADTDA5621-Homework2-Meghan-Miller.ipynb",
      "provenance": [],
      "collapsed_sections": [],
      "include_colab_link": true
    },
    "kernelspec": {
      "name": "python3",
      "display_name": "Python 3"
    }
  },
  "cells": [
    {
      "cell_type": "markdown",
      "metadata": {
        "id": "view-in-github",
        "colab_type": "text"
      },
      "source": [
        "<a href=\"https://colab.research.google.com/github/MeghanMaumeMiller/MTDA5621/blob/master/GRADTDA5621_Homework2_Meghan_Miller.ipynb\" target=\"_parent\"><img src=\"https://colab.research.google.com/assets/colab-badge.svg\" alt=\"Open In Colab\"/></a>"
      ]
    },
    {
      "cell_type": "markdown",
      "metadata": {
        "id": "k2w44VvVUGMk",
        "colab_type": "text"
      },
      "source": [
        "![osu logo](https://github.com/chaitanya2334/jupyter-tutorial/blob/master/images/osu-32px-horiz.png?raw=1)\n",
        "\n",
        "\n",
        "---\n",
        "\n",
        "\n",
        "# Homework 2. A Sorting Zoo\n",
        "## Due September 17, 11:59 PM.\n",
        "Please follow these instructions to proceed and submit the answers.\n",
        "\n",
        "- Please save the Jupyter notebook from Colab as a private copy.\n",
        "- Name the file - GRADTDA5621-Homework2-FirstName-LastName.ipynb.\n",
        "- Work on the homework and attempt all sections.\n",
        "- Use Piazza to discuss all parts of the homework.\n",
        "-  *Homework is due Thursday, September 17,  at 11:59 AM.*\n",
        "- Use Carmen to submit.\n",
        "        \n",
        "> ### _Objective of this tutorial:_\n",
        "> * Get familiar with Python\n",
        "> * Understand how to solve problems by algorithms\n",
        "> * Learn how to use abstract data types"
      ]
    },
    {
      "cell_type": "markdown",
      "metadata": {
        "id": "fV1Iz7WCRzON",
        "colab_type": "text"
      },
      "source": [
        "\n",
        "Sorting a list of items into ascending or descending order can help either a human or a computer find items on that list quickly, perhaps using an algorithm like binary search. Most Programming languages have built-in sorting methods. It works on arrays of numbers, or even on arrays of strings:\n",
        "```\n",
        "animals = [\"gnu\", \"zebra\", \"antelope\", \"aardvark\", \"yak\", \"iguana\"]\n",
        "sorted(animals)\n",
        "```\n",
        "Try that on **Colab**. Cut and paste could have its perils given \"Unicode\" characters.\n",
        "\n",
        "Even though Python has several built-in sorting methods, sorting is a great example of how there may be many ways to think about the same problem, some perhaps better than others. Understanding sorting is a traditional first step towards gaining some mastery of algorithms and computer science.\n",
        "\n",
        "Please also peruse this material at - https://realpython.com/sorting-algorithms-python/#pythons-built-in-sorting-algorithm\n",
        "\n",
        "## A. Bubble Sort\n",
        "Bubble Sort is one of the simplest sorting algorithms where we repeatedly swap adjacent elements if they are in the *incorrect* order. As the name suggests, think of a really large air bubble in the water trying to make its way to the surface. We already saw this material in class material. \n",
        "\n",
        "**Pseudo code**\n",
        "```\n",
        "bubble_sort (A)\n",
        "1  N = Length(A)\n",
        "2  for i = 1 to N\n",
        "3     for j = 0 to N - 1\n",
        "4         if A[j]>A[j + 1]\n",
        "5            swap(A[j], A[j + 1])\n",
        "```\n",
        "### A.1 Subproblem\n",
        "Before building the full bubble sort procedure, we must first implement the swap() function as you see in line 5. We already saw this function a few times in class material. The swap function is expected to swap the values of the given array elements. Please complete the code. You can replace the swap (A[j], A[j+1]) with the code that includes variable temp. Or you can use a function swap as shown below. Either way is good.\n"
      ]
    },
    {
      "cell_type": "code",
      "metadata": {
        "id": "Bo1mYEY5R_j_",
        "colab_type": "code",
        "colab": {}
      },
      "source": [
        "def swap(a, b):\n",
        "  if A[i]>A[i+1]:\n",
        "    temp = A[i]\n",
        "    A[i] = A[i+1]\n",
        "    A[i+1] = temp\n",
        "  return A"
      ],
      "execution_count": 20,
      "outputs": []
    },
    {
      "cell_type": "markdown",
      "metadata": {
        "id": "EO-1y9iOSTg2",
        "colab_type": "text"
      },
      "source": [
        "### A.2 Full Bubble Sort\n",
        "Here, make use of the swap function implemented above to build the bubble sort procedure.\n",
        "\n"
      ]
    },
    {
      "cell_type": "code",
      "metadata": {
        "id": "VPr9nsmzSWKb",
        "colab_type": "code",
        "colab": {}
      },
      "source": [
        "def bubble_sort(A):\n",
        "  for passnum in range(len(A)-1,0,-1):  # Each iteration of the for loop with examine the number ahead/behind the indexed value\n",
        "    for i in range(passnum):            # Each iteration of this for loop will swap indexed numbers if conditions are met\n",
        "      if A[i]>A[i+1]:                   # Swap function\n",
        "        temp = A[i]\n",
        "        A[i] = A[i+1]\n",
        "        A[i+1] = temp       \n",
        "  return A                                                     "
      ],
      "execution_count": 21,
      "outputs": []
    },
    {
      "cell_type": "code",
      "metadata": {
        "id": "G2zXLz_bT7eD",
        "colab_type": "code",
        "colab": {
          "base_uri": "https://localhost:8080/",
          "height": 34
        },
        "outputId": "aef5199f-8e4d-49d0-8376-25825d4efd7a"
      },
      "source": [
        "A = [4, 1, 19, 34, 13, 48, 123, 94]\n",
        "bubble_sort(A)"
      ],
      "execution_count": 22,
      "outputs": [
        {
          "output_type": "execute_result",
          "data": {
            "text/plain": [
              "[1, 4, 13, 19, 34, 48, 94, 123]"
            ]
          },
          "metadata": {
            "tags": []
          },
          "execution_count": 22
        }
      ]
    },
    {
      "cell_type": "markdown",
      "metadata": {
        "id": "-BAqTWHXSWc1",
        "colab_type": "text"
      },
      "source": [
        "## B. Insertion Sort \n",
        "Insertion sort is the sorting mechanism where the sorted array is built using one item at a time. Array elements are compared with each other sequentially from the far left end and then arranged simultaneously in some particular order. An analogy is  arranging a deck of cards. The card arrangement works on the principle of inserting an element at its rightful position, hence the name Insertion Sort.\n",
        "\n",
        "The essential step requires the comparison of the element in question with its adjacent elements. And if every comparison reveals that the element in question can be inserted at a particular position, then space is created for it by shifting the other elements one position to the right and inserting the element at a suitable position.\n",
        "The above procedure is repeated until all the elements in the array are at their apt position.\n",
        "\n",
        "**Pseudo code**\n",
        "```\n",
        "insertion_sort (A)\n",
        "1  for j = 1 to length[A]\n",
        "2       key = A[j]\n",
        "4        i = j - 1\n",
        "5        while i >= 0 and A[i] > key\n",
        "6           do A[i + 1] = A[i]\n",
        "7              i = i - 1\n",
        "8        A[i + 1] = key\n",
        "```\n",
        "\n"
      ]
    },
    {
      "cell_type": "code",
      "metadata": {
        "id": "G2-pGOm2SZF-",
        "colab_type": "code",
        "colab": {}
      },
      "source": [
        "def insertion_sort(A):\n",
        "  for j in range (1, len(A)):       # Examine list by comparing individual adjacent values\n",
        "    key = A[j]                      \n",
        "    i = j - 1\n",
        "    while i >= 0 and A[i] > key:\n",
        "      if key < A[i]:                 # Swap function if assumptions are met\n",
        "        A[i+1] = A[i]\n",
        "        A[i] = key\n",
        "        i = i - 1\n",
        "  return A"
      ],
      "execution_count": 43,
      "outputs": []
    },
    {
      "cell_type": "code",
      "metadata": {
        "id": "3qxSb2GrT4MR",
        "colab_type": "code",
        "colab": {
          "base_uri": "https://localhost:8080/",
          "height": 34
        },
        "outputId": "2908ceb0-719a-4e05-f240-7603674d6ce4"
      },
      "source": [
        "B = [4, 1, 19, 34, 13, 48, 123, 94]\n",
        "insertion_sort(B)"
      ],
      "execution_count": 44,
      "outputs": [
        {
          "output_type": "execute_result",
          "data": {
            "text/plain": [
              "[1, 4, 13, 19, 34, 48, 94, 123]"
            ]
          },
          "metadata": {
            "tags": []
          },
          "execution_count": 44
        }
      ]
    },
    {
      "cell_type": "markdown",
      "metadata": {
        "id": "R69lxE1SSZV6",
        "colab_type": "text"
      },
      "source": [
        "## C. Selection Sort \n",
        "The selection sort is a simple comparison-based sorting algorithm. \n",
        "\n",
        "The idea behind this algorithm is pretty simple. We divide the array into two parts: sorted and unsorted. The left part is a sorted subarray and the right part is an unsorted subarray. Initially, the sorted subarray is empty and the unsorted array is the complete given array.\n",
        "We perform the steps given below until the unsorted subarray becomes empty:\n",
        "- pick the minimum element from the unsorted subarray.\n",
        "- swap it with the leftmost element of the unsorted subarray.\n",
        "\n",
        "Now the leftmost element of the unsorted subarray becomes a part (rightmost) of the sorted subarray and will not be a part of the unsorted subarray. You keep *selecting* the minimum element.\n",
        "\n",
        "Pseudo code (it is not Python)\n",
        "```\n",
        "selection_sort (A)\n",
        "1  n = length(A)\n",
        "2  for i = 0 to n - 1 do\n",
        "3      min_index = find_min_index(A, i, n)\n",
        "4      swap(A[i], A[min_index])\n",
        "```\n",
        "### C.1 subproblem\n",
        "Before implementing the full selection sort, implement the `find_min_index` method to support the `find_min_index(A, i, n)` method call. This function will find the minimum element in the subarray A[i, n] and return its index. This element will then be swapped with the current index `i`."
      ]
    },
    {
      "cell_type": "code",
      "metadata": {
        "id": "3l8TjrlbSbAi",
        "colab_type": "code",
        "colab": {}
      },
      "source": [
        "def find_min_index(A, i, n):\n",
        "  for i in range(len(A)):\n",
        "    min_index = i\n",
        "    for n in range (i+1, len(A)):\n",
        "      if A[min_index] > A[n]:\n",
        "        min_index = n \n",
        "    A[i], A[min_index] = A[min_index], A[i]\n",
        "  return min_index"
      ],
      "execution_count": 26,
      "outputs": []
    },
    {
      "cell_type": "markdown",
      "metadata": {
        "id": "8d2CyI0uSbSU",
        "colab_type": "text"
      },
      "source": [
        "### C.2 Full Selection Sort\n",
        "\n",
        "Now, implement the full selection sort procedure using the pseudo code provided above."
      ]
    },
    {
      "cell_type": "code",
      "metadata": {
        "id": "E4z1ZCUOSmI1",
        "colab_type": "code",
        "colab": {}
      },
      "source": [
        "def selection_sort(A):\n",
        "  for i in range(len(A)):                  # Each iteration identifies the minimum value of the array\n",
        "    min_index = i\n",
        "    for n in range (i+1, len(A)):\n",
        "      if A[min_index] > A[n]:              # Swap if assumptions are met\n",
        "        min_index = n \n",
        "    A[i], A[min_index] = A[min_index], A[i]\n",
        "  return A"
      ],
      "execution_count": 27,
      "outputs": []
    },
    {
      "cell_type": "code",
      "metadata": {
        "id": "CFhvom5CTxuK",
        "colab_type": "code",
        "colab": {
          "base_uri": "https://localhost:8080/",
          "height": 34
        },
        "outputId": "f025b418-39be-4184-94c0-282db2ec1e6c"
      },
      "source": [
        "C = [4, 1, 19, 34, 13, 48, 123, 94]\n",
        "selection_sort(C)"
      ],
      "execution_count": 28,
      "outputs": [
        {
          "output_type": "execute_result",
          "data": {
            "text/plain": [
              "[1, 4, 13, 19, 34, 48, 94, 123]"
            ]
          },
          "metadata": {
            "tags": []
          },
          "execution_count": 28
        }
      ]
    },
    {
      "cell_type": "markdown",
      "metadata": {
        "id": "NmsHgpMjUIst",
        "colab_type": "text"
      },
      "source": [
        "# D. Timing Sorting Algorithms\n",
        "\n",
        "Use this function to time the execution of three sorting algorithms namely Bubble Sort, Insertion Sort, and Selection Sort.  \n"
      ]
    },
    {
      "cell_type": "code",
      "metadata": {
        "id": "rUQavXs9p3Km",
        "colab_type": "code",
        "colab": {}
      },
      "source": [
        "from random import randint\n",
        "from timeit import repeat\n",
        "def run_sorting_algorithm(algorithm, array):\n",
        "    # Set up the context and prepare the call to the specified\n",
        "    # algorithm using the supplied array. Only import the\n",
        "    # algorithm function if it's not the built-in `sorted()`.\n",
        "    setup_code = f\"from __main__ import {algorithm}\" \\\n",
        "        if algorithm != \"sorted\" else \"\"\n",
        "    stmt = f\"{algorithm}({array})\"\n",
        "\n",
        "    # Execute the code ten different times and return the time\n",
        "    # in seconds that each execution took\n",
        "    times = repeat(setup=setup_code, stmt=stmt, repeat=3, number=10)\n",
        "    # Finally, display the name of the algorithm and the\n",
        "    # minimum time it took to run\n",
        "    print(f\"Algorithm: {algorithm}. Minimum execution time: {min(times)}\")"
      ],
      "execution_count": 29,
      "outputs": []
    },
    {
      "cell_type": "markdown",
      "metadata": {
        "id": "NTmM-Uossgc8",
        "colab_type": "text"
      },
      "source": [
        "Now execute the algorithms on generated data of size 10, 100 and 1000 and contained in arrays A10, A100 and A1000 as seen below."
      ]
    },
    {
      "cell_type": "code",
      "metadata": {
        "id": "_2pK5XhSsGvF",
        "colab_type": "code",
        "colab": {}
      },
      "source": [
        "from random import randrange\n",
        "\n",
        "A10 = [randrange(1000) for i in range(10)]\n",
        "A100 = [randrange(1000) for i in range(100)]\n",
        "A1000 = [randrange(1000) for i in range(1000)]"
      ],
      "execution_count": 30,
      "outputs": []
    },
    {
      "cell_type": "markdown",
      "metadata": {
        "id": "R-AcWGcwsz41",
        "colab_type": "text"
      },
      "source": [
        "Finally, tabulate the results by invoking and measuring\n",
        "- `tBS10=run_sorting_algorithm(\"bubble_sort\", A10)`\n",
        "- `tBS100=run_sorting_algorithm(\"bubble_sort\", A100)`\n",
        "- `tBS1000=run_sorting_algorithm(\"bubble_sort\", A1000)`\n",
        "\n",
        "Do the same for the other two algorithms."
      ]
    },
    {
      "cell_type": "code",
      "metadata": {
        "id": "0CJJZjYUdCwZ",
        "colab_type": "code",
        "colab": {
          "base_uri": "https://localhost:8080/",
          "height": 34
        },
        "outputId": "f109f99b-47c0-4b43-95cf-a8b3e85cbc3c"
      },
      "source": [
        "tBS10=run_sorting_algorithm(\"bubble_sort\", A10)"
      ],
      "execution_count": 36,
      "outputs": [
        {
          "output_type": "stream",
          "text": [
            "Algorithm: bubble_sort. Minimum execution time: 8.240299939643592e-05\n"
          ],
          "name": "stdout"
        }
      ]
    },
    {
      "cell_type": "code",
      "metadata": {
        "id": "OjFclGYhdRSQ",
        "colab_type": "code",
        "colab": {
          "base_uri": "https://localhost:8080/",
          "height": 34
        },
        "outputId": "7b1ea070-a869-4222-87be-8307a05c290d"
      },
      "source": [
        "tBS100=run_sorting_algorithm(\"bubble_sort\", A100)"
      ],
      "execution_count": 37,
      "outputs": [
        {
          "output_type": "stream",
          "text": [
            "Algorithm: bubble_sort. Minimum execution time: 0.006398307999916142\n"
          ],
          "name": "stdout"
        }
      ]
    },
    {
      "cell_type": "code",
      "metadata": {
        "id": "62xwW-h-dgn-",
        "colab_type": "code",
        "colab": {
          "base_uri": "https://localhost:8080/",
          "height": 34
        },
        "outputId": "36c01a67-bc96-4dc3-df75-96ee532007d7"
      },
      "source": [
        "tBS1000=run_sorting_algorithm(\"bubble_sort\", A1000)"
      ],
      "execution_count": 38,
      "outputs": [
        {
          "output_type": "stream",
          "text": [
            "Algorithm: bubble_sort. Minimum execution time: 0.6695592729993223\n"
          ],
          "name": "stdout"
        }
      ]
    },
    {
      "cell_type": "code",
      "metadata": {
        "id": "VG5NdqIbeVZo",
        "colab_type": "code",
        "colab": {
          "base_uri": "https://localhost:8080/",
          "height": 34
        },
        "outputId": "84598a26-afbd-428a-8646-a89fffc0dd6b"
      },
      "source": [
        "tBS10=run_sorting_algorithm(\"insertion_sort\", A10)"
      ],
      "execution_count": 45,
      "outputs": [
        {
          "output_type": "stream",
          "text": [
            "Algorithm: insertion_sort. Minimum execution time: 5.238699941401137e-05\n"
          ],
          "name": "stdout"
        }
      ]
    },
    {
      "cell_type": "code",
      "metadata": {
        "id": "VjeDjFSNfA08",
        "colab_type": "code",
        "colab": {
          "base_uri": "https://localhost:8080/",
          "height": 34
        },
        "outputId": "e0a166e9-8897-4650-d666-b65d942615c1"
      },
      "source": [
        "tBS100=run_sorting_algorithm(\"insertion_sort\", A100)"
      ],
      "execution_count": 48,
      "outputs": [
        {
          "output_type": "stream",
          "text": [
            "Algorithm: insertion_sort. Minimum execution time: 0.003890728000442323\n"
          ],
          "name": "stdout"
        }
      ]
    },
    {
      "cell_type": "code",
      "metadata": {
        "id": "HkCPb1-UfHfF",
        "colab_type": "code",
        "colab": {
          "base_uri": "https://localhost:8080/",
          "height": 34
        },
        "outputId": "6c25a18e-7770-416c-da75-a8fbe9d5bc20"
      },
      "source": [
        "tBS1000=run_sorting_algorithm(\"insertion_sort\",A1000)"
      ],
      "execution_count": 47,
      "outputs": [
        {
          "output_type": "stream",
          "text": [
            "Algorithm: insertion_sort. Minimum execution time: 0.4246197749998828\n"
          ],
          "name": "stdout"
        }
      ]
    },
    {
      "cell_type": "code",
      "metadata": {
        "id": "L2vXvTlvfOnJ",
        "colab_type": "code",
        "colab": {
          "base_uri": "https://localhost:8080/",
          "height": 34
        },
        "outputId": "7b93d6c1-a4df-4969-aaf5-3d003637c681"
      },
      "source": [
        "tBS10=run_sorting_algorithm(\"selection_sort\", A10)"
      ],
      "execution_count": 49,
      "outputs": [
        {
          "output_type": "stream",
          "text": [
            "Algorithm: selection_sort. Minimum execution time: 9.790600051928777e-05\n"
          ],
          "name": "stdout"
        }
      ]
    },
    {
      "cell_type": "code",
      "metadata": {
        "id": "JFZxgzWgfgbf",
        "colab_type": "code",
        "colab": {
          "base_uri": "https://localhost:8080/",
          "height": 34
        },
        "outputId": "d2dd48d7-3dc8-4dfc-b8ee-c0ac88d98972"
      },
      "source": [
        "tBS=run_sorting_algorithm(\"selection_sort\", A100)"
      ],
      "execution_count": 50,
      "outputs": [
        {
          "output_type": "stream",
          "text": [
            "Algorithm: selection_sort. Minimum execution time: 0.002840295000169135\n"
          ],
          "name": "stdout"
        }
      ]
    },
    {
      "cell_type": "code",
      "metadata": {
        "id": "RuP2X1Aofl21",
        "colab_type": "code",
        "colab": {
          "base_uri": "https://localhost:8080/",
          "height": 34
        },
        "outputId": "41e5cc51-9743-4665-8f3f-c76e0719b418"
      },
      "source": [
        "tBS1000=run_sorting_algorithm(\"selection_sort\", A1000)"
      ],
      "execution_count": 51,
      "outputs": [
        {
          "output_type": "stream",
          "text": [
            "Algorithm: selection_sort. Minimum execution time: 0.3009125770004175\n"
          ],
          "name": "stdout"
        }
      ]
    },
    {
      "cell_type": "code",
      "metadata": {
        "id": "tUmZYHhrfsZN",
        "colab_type": "code",
        "colab": {}
      },
      "source": [
        ""
      ],
      "execution_count": null,
      "outputs": []
    }
  ]
}